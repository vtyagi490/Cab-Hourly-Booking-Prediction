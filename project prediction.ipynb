{
 "cells": [
  {
   "cell_type": "markdown",
   "id": "86dbcd83",
   "metadata": {},
   "source": [
    "#                                      Project - Cab Booking Prediction   \n",
    "#### Submitted by- Vishal Tyagi"
   ]
  },
  {
   "cell_type": "code",
   "execution_count": 1,
   "id": "32a9d3fd",
   "metadata": {},
   "outputs": [],
   "source": [
    "#importing Libraries\n",
    "import os\n",
    "import pandas as pd\n",
    "import numpy as np\n",
    "import matplotlib.pyplot as plt\n",
    "import seaborn as sns\n",
    "import warnings\n",
    "import datetime as dt\n",
    "# from collections import Counter \n",
    "from sklearn.model_selection import train_test_split\n",
    "from sklearn.metrics import r2_score\n",
    "from sklearn.metrics import mean_squared_error\n",
    "from sklearn.tree import DecisionTreeRegressor\n",
    "from sklearn.ensemble import RandomForestRegressor\n",
    "from sklearn.model_selection import GridSearchCV\n",
    "from sklearn.ensemble import GradientBoostingRegressor\n",
    "from lightgbm import LGBMRegressor"
   ]
  },
  {
   "cell_type": "markdown",
   "id": "5ea05c92",
   "metadata": {},
   "source": [
    "# Task-1 Data Analysis"
   ]
  },
  {
   "cell_type": "code",
   "execution_count": 2,
   "id": "ca773eb8",
   "metadata": {},
   "outputs": [
    {
     "data": {
      "text/html": [
       "<div>\n",
       "<style scoped>\n",
       "    .dataframe tbody tr th:only-of-type {\n",
       "        vertical-align: middle;\n",
       "    }\n",
       "\n",
       "    .dataframe tbody tr th {\n",
       "        vertical-align: top;\n",
       "    }\n",
       "\n",
       "    .dataframe thead th {\n",
       "        text-align: right;\n",
       "    }\n",
       "</style>\n",
       "<table border=\"1\" class=\"dataframe\">\n",
       "  <thead>\n",
       "    <tr style=\"text-align: right;\">\n",
       "      <th></th>\n",
       "      <th>datetime</th>\n",
       "      <th>season</th>\n",
       "      <th>holiday</th>\n",
       "      <th>workingday</th>\n",
       "      <th>weather</th>\n",
       "      <th>temp</th>\n",
       "      <th>humidity</th>\n",
       "      <th>windspeed</th>\n",
       "      <th>total number of bookings</th>\n",
       "    </tr>\n",
       "  </thead>\n",
       "  <tbody>\n",
       "    <tr>\n",
       "      <th>0</th>\n",
       "      <td>5/2/2012 19:00</td>\n",
       "      <td>Summer</td>\n",
       "      <td>0</td>\n",
       "      <td>1</td>\n",
       "      <td>Clear + Few clouds</td>\n",
       "      <td>22.14</td>\n",
       "      <td>77</td>\n",
       "      <td>16.9979</td>\n",
       "      <td>504</td>\n",
       "    </tr>\n",
       "    <tr>\n",
       "      <th>1</th>\n",
       "      <td>9/5/2012 4:00</td>\n",
       "      <td>Fall</td>\n",
       "      <td>0</td>\n",
       "      <td>1</td>\n",
       "      <td>Clear + Few clouds</td>\n",
       "      <td>28.7</td>\n",
       "      <td>79</td>\n",
       "      <td>19.0012</td>\n",
       "      <td>5</td>\n",
       "    </tr>\n",
       "    <tr>\n",
       "      <th>2</th>\n",
       "      <td>1/13/2011 9:00</td>\n",
       "      <td>Spring</td>\n",
       "      <td>0</td>\n",
       "      <td>1</td>\n",
       "      <td>Clear + Few clouds</td>\n",
       "      <td>5.74</td>\n",
       "      <td>50</td>\n",
       "      <td>22.0028</td>\n",
       "      <td>139</td>\n",
       "    </tr>\n",
       "    <tr>\n",
       "      <th>3</th>\n",
       "      <td>11/18/2011 16:00</td>\n",
       "      <td>Winter</td>\n",
       "      <td>0</td>\n",
       "      <td>1</td>\n",
       "      <td>Clear + Few clouds</td>\n",
       "      <td>13.94</td>\n",
       "      <td>29</td>\n",
       "      <td>8.9981</td>\n",
       "      <td>209</td>\n",
       "    </tr>\n",
       "    <tr>\n",
       "      <th>4</th>\n",
       "      <td>9/13/2011 13:00</td>\n",
       "      <td>Fall</td>\n",
       "      <td>0</td>\n",
       "      <td>1</td>\n",
       "      <td>Clear + Few clouds</td>\n",
       "      <td>30.34</td>\n",
       "      <td>51</td>\n",
       "      <td>19.0012</td>\n",
       "      <td>184</td>\n",
       "    </tr>\n",
       "  </tbody>\n",
       "</table>\n",
       "</div>"
      ],
      "text/plain": [
       "           datetime  season  holiday  workingday              weather   temp  \\\n",
       "0    5/2/2012 19:00  Summer        0           1   Clear + Few clouds  22.14   \n",
       "1     9/5/2012 4:00    Fall        0           1   Clear + Few clouds   28.7   \n",
       "2    1/13/2011 9:00  Spring        0           1   Clear + Few clouds   5.74   \n",
       "3  11/18/2011 16:00  Winter        0           1   Clear + Few clouds  13.94   \n",
       "4   9/13/2011 13:00    Fall        0           1   Clear + Few clouds  30.34   \n",
       "\n",
       "   humidity  windspeed  total number of bookings  \n",
       "0        77    16.9979                       504  \n",
       "1        79    19.0012                         5  \n",
       "2        50    22.0028                       139  \n",
       "3        29     8.9981                       209  \n",
       "4        51    19.0012                       184  "
      ]
     },
     "execution_count": 2,
     "metadata": {},
     "output_type": "execute_result"
    }
   ],
   "source": [
    "# import data\n",
    "data = pd.read_csv(r\"C:\\Users\\dell\\Downloads\\job-assg\\Final_data_Updated_data.csv\")\n",
    "data.head()"
   ]
  },
  {
   "cell_type": "markdown",
   "id": "b43d74d9",
   "metadata": {},
   "source": [
    "### Data health & inconsistency checkup\n",
    "there can be some incosistencies in data or it may happen that some variable don't have required data type. so checking up these things"
   ]
  },
  {
   "cell_type": "code",
   "execution_count": 3,
   "id": "30d7a9c5",
   "metadata": {},
   "outputs": [
    {
     "name": "stdout",
     "output_type": "stream",
     "text": [
      "<class 'pandas.core.frame.DataFrame'>\n",
      "RangeIndex: 8708 entries, 0 to 8707\n",
      "Data columns (total 9 columns):\n",
      " #   Column                    Non-Null Count  Dtype  \n",
      "---  ------                    --------------  -----  \n",
      " 0   datetime                  8708 non-null   object \n",
      " 1   season                    8708 non-null   object \n",
      " 2   holiday                   8708 non-null   int64  \n",
      " 3   workingday                8708 non-null   int64  \n",
      " 4   weather                   8708 non-null   object \n",
      " 5   temp                      8705 non-null   object \n",
      " 6   humidity                  8708 non-null   int64  \n",
      " 7   windspeed                 8708 non-null   float64\n",
      " 8   total number of bookings  8708 non-null   int64  \n",
      "dtypes: float64(1), int64(4), object(4)\n",
      "memory usage: 612.4+ KB\n"
     ]
    }
   ],
   "source": [
    "data.info()"
   ]
  },
  {
   "cell_type": "code",
   "execution_count": 4,
   "id": "aaedda7b",
   "metadata": {},
   "outputs": [],
   "source": [
    "# converting variable into required data types\n",
    "data['datetime'] = pd.to_datetime(data['datetime'])\n",
    "data['temp'] = pd.to_numeric(data['temp'], errors='coerce')\n",
    "data['holiday'] = data['holiday'].astype('str')\n",
    "data['workingday'] = data['workingday'].astype('str')"
   ]
  },
  {
   "cell_type": "code",
   "execution_count": 5,
   "id": "c9ac8757",
   "metadata": {},
   "outputs": [
    {
     "data": {
      "text/html": [
       "<div>\n",
       "<style scoped>\n",
       "    .dataframe tbody tr th:only-of-type {\n",
       "        vertical-align: middle;\n",
       "    }\n",
       "\n",
       "    .dataframe tbody tr th {\n",
       "        vertical-align: top;\n",
       "    }\n",
       "\n",
       "    .dataframe thead th {\n",
       "        text-align: right;\n",
       "    }\n",
       "</style>\n",
       "<table border=\"1\" class=\"dataframe\">\n",
       "  <thead>\n",
       "    <tr style=\"text-align: right;\">\n",
       "      <th></th>\n",
       "      <th>temp</th>\n",
       "      <th>humidity</th>\n",
       "      <th>windspeed</th>\n",
       "      <th>total number of bookings</th>\n",
       "    </tr>\n",
       "  </thead>\n",
       "  <tbody>\n",
       "    <tr>\n",
       "      <th>count</th>\n",
       "      <td>8701.000000</td>\n",
       "      <td>8708.000000</td>\n",
       "      <td>8708.000000</td>\n",
       "      <td>8708.000000</td>\n",
       "    </tr>\n",
       "    <tr>\n",
       "      <th>mean</th>\n",
       "      <td>20.344837</td>\n",
       "      <td>61.649173</td>\n",
       "      <td>12.843891</td>\n",
       "      <td>193.007005</td>\n",
       "    </tr>\n",
       "    <tr>\n",
       "      <th>std</th>\n",
       "      <td>10.425827</td>\n",
       "      <td>19.199578</td>\n",
       "      <td>8.190314</td>\n",
       "      <td>181.552211</td>\n",
       "    </tr>\n",
       "    <tr>\n",
       "      <th>min</th>\n",
       "      <td>0.820000</td>\n",
       "      <td>0.000000</td>\n",
       "      <td>0.000000</td>\n",
       "      <td>1.000000</td>\n",
       "    </tr>\n",
       "    <tr>\n",
       "      <th>25%</th>\n",
       "      <td>13.940000</td>\n",
       "      <td>46.000000</td>\n",
       "      <td>7.001500</td>\n",
       "      <td>43.000000</td>\n",
       "    </tr>\n",
       "    <tr>\n",
       "      <th>50%</th>\n",
       "      <td>20.500000</td>\n",
       "      <td>61.000000</td>\n",
       "      <td>12.998000</td>\n",
       "      <td>148.000000</td>\n",
       "    </tr>\n",
       "    <tr>\n",
       "      <th>75%</th>\n",
       "      <td>26.240000</td>\n",
       "      <td>77.000000</td>\n",
       "      <td>16.997900</td>\n",
       "      <td>286.000000</td>\n",
       "    </tr>\n",
       "    <tr>\n",
       "      <th>max</th>\n",
       "      <td>500.030000</td>\n",
       "      <td>100.000000</td>\n",
       "      <td>56.996900</td>\n",
       "      <td>977.000000</td>\n",
       "    </tr>\n",
       "  </tbody>\n",
       "</table>\n",
       "</div>"
      ],
      "text/plain": [
       "              temp     humidity    windspeed  total number of bookings\n",
       "count  8701.000000  8708.000000  8708.000000               8708.000000\n",
       "mean     20.344837    61.649173    12.843891                193.007005\n",
       "std      10.425827    19.199578     8.190314                181.552211\n",
       "min       0.820000     0.000000     0.000000                  1.000000\n",
       "25%      13.940000    46.000000     7.001500                 43.000000\n",
       "50%      20.500000    61.000000    12.998000                148.000000\n",
       "75%      26.240000    77.000000    16.997900                286.000000\n",
       "max     500.030000   100.000000    56.996900                977.000000"
      ]
     },
     "execution_count": 5,
     "metadata": {},
     "output_type": "execute_result"
    }
   ],
   "source": [
    "data.describe()"
   ]
  },
  {
   "cell_type": "code",
   "execution_count": 6,
   "id": "83dd4b77",
   "metadata": {},
   "outputs": [
    {
     "data": {
      "text/plain": [
       "Index(['season', 'holiday', 'workingday', 'weather'], dtype='object')"
      ]
     },
     "execution_count": 6,
     "metadata": {},
     "output_type": "execute_result"
    }
   ],
   "source": [
    "# selecting all categorical columns\n",
    "cat_cols = data.select_dtypes(include =['object']).columns\n",
    "cat_cols"
   ]
  },
  {
   "cell_type": "code",
   "execution_count": 7,
   "id": "673eb4fd",
   "metadata": {
    "scrolled": true
   },
   "outputs": [
    {
     "name": "stdout",
     "output_type": "stream",
     "text": [
      "----Values of---- season\n",
      "Summer    2191\n",
      "Fall      2185\n",
      "Winter    2183\n",
      "Spring    2136\n",
      "Sumer        6\n",
      "Fal          4\n",
      "wintr        3\n",
      "Name: season, dtype: int64\n",
      "----Values of---- holiday\n",
      "0    8460\n",
      "1     248\n",
      "Name: holiday, dtype: int64\n",
      "----Values of---- workingday\n",
      "1    5924\n",
      "0    2784\n",
      "Name: workingday, dtype: int64\n",
      "----Values of---- weather\n",
      " Clear + Few clouds            5753\n",
      " Mist + Cloudy                 2276\n",
      " Light Snow, Light Rain         678\n",
      " Heavy Rain + Thunderstorm        1\n",
      "Name: weather, dtype: int64\n"
     ]
    }
   ],
   "source": [
    "for i in data[cat_cols]:\n",
    "    print(\"----Values of----\",i)\n",
    "    print(data[i].value_counts(dropna=False))"
   ]
  },
  {
   "cell_type": "markdown",
   "id": "bc385b8f",
   "metadata": {},
   "source": [
    "Season and Weather columns have some incosistencies, fixing them-"
   ]
  },
  {
   "cell_type": "code",
   "execution_count": 8,
   "id": "36340acd",
   "metadata": {},
   "outputs": [],
   "source": [
    "data['weather'] = data['weather'].str.replace(',',\" +\")\n",
    "data['season'] = data['season'].replace({'wintr': 'Winter', 'Fal': 'Fall','Sumer':'Summer'})"
   ]
  },
  {
   "cell_type": "markdown",
   "id": "67259e11",
   "metadata": {},
   "source": [
    "### Missing Value Analysis"
   ]
  },
  {
   "cell_type": "code",
   "execution_count": 9,
   "id": "3e7bd416",
   "metadata": {
    "scrolled": true
   },
   "outputs": [
    {
     "data": {
      "text/plain": [
       "datetime                    0\n",
       "season                      0\n",
       "holiday                     0\n",
       "workingday                  0\n",
       "weather                     0\n",
       "temp                        7\n",
       "humidity                    0\n",
       "windspeed                   0\n",
       "total number of bookings    0\n",
       "dtype: int64"
      ]
     },
     "execution_count": 9,
     "metadata": {},
     "output_type": "execute_result"
    }
   ],
   "source": [
    "data.isnull().sum()"
   ]
  },
  {
   "cell_type": "markdown",
   "id": "2eeb045c",
   "metadata": {},
   "source": [
    "#### there are only 7 missing value in temp variable. let's fill them by mean or median.\n",
    "Becouse temp variable data is normally distributed (mean and median are very close) we can fill missing values by Mean of values"
   ]
  },
  {
   "cell_type": "code",
   "execution_count": 10,
   "id": "85761a3f",
   "metadata": {},
   "outputs": [
    {
     "data": {
      "text/plain": [
       "datetime                    0\n",
       "season                      0\n",
       "holiday                     0\n",
       "workingday                  0\n",
       "weather                     0\n",
       "temp                        0\n",
       "humidity                    0\n",
       "windspeed                   0\n",
       "total number of bookings    0\n",
       "dtype: int64"
      ]
     },
     "execution_count": 10,
     "metadata": {},
     "output_type": "execute_result"
    }
   ],
   "source": [
    "# filling missing values with mean value\n",
    "data['temp'].fillna(data['temp'].mean(), inplace=True)\n",
    "data.isnull().sum()"
   ]
  },
  {
   "cell_type": "markdown",
   "id": "db06ec98",
   "metadata": {},
   "source": [
    "### Outlier Analysis\n",
    "for checking outliers in data Boxplots are best."
   ]
  },
  {
   "cell_type": "code",
   "execution_count": 11,
   "id": "ec4f8f17",
   "metadata": {},
   "outputs": [
    {
     "data": {
      "image/png": "[encoded data removed]",
      "text/plain": [
       "<Figure size 1152x576 with 4 Axes>"
      ]
     },
     "metadata": {
      "needs_background": "light"
     },
     "output_type": "display_data"
    }
   ],
   "source": [
    "warnings.filterwarnings('ignore')\n",
    "\n",
    "plt.figure(figsize=(16,8))\n",
    "plt.subplot(2,2,1)\n",
    "sns.boxplot(data['total number of bookings'])\n",
    "plt.subplot(2,2,2)\n",
    "sns.boxplot(data['temp'])\n",
    "\n",
    "plt.subplot(2,2,3)\n",
    "sns.boxplot(data['windspeed'])\n",
    "plt.subplot(2,2,4)\n",
    "sns.boxplot(data['humidity'])\n",
    "plt.show()"
   ]
  },
  {
   "cell_type": "markdown",
   "id": "a32f0b65",
   "metadata": {},
   "source": [
    "some variables like 'total number of bookings' and 'windspeed' have many outliers. so lets fix them -"
   ]
  },
  {
   "cell_type": "code",
   "execution_count": 12,
   "id": "732d2554",
   "metadata": {},
   "outputs": [
    {
     "data": {
      "text/html": [
       "<div>\n",
       "<style scoped>\n",
       "    .dataframe tbody tr th:only-of-type {\n",
       "        vertical-align: middle;\n",
       "    }\n",
       "\n",
       "    .dataframe tbody tr th {\n",
       "        vertical-align: top;\n",
       "    }\n",
       "\n",
       "    .dataframe thead th {\n",
       "        text-align: right;\n",
       "    }\n",
       "</style>\n",
       "<table border=\"1\" class=\"dataframe\">\n",
       "  <thead>\n",
       "    <tr style=\"text-align: right;\">\n",
       "      <th></th>\n",
       "      <th>datetime</th>\n",
       "      <th>season</th>\n",
       "      <th>holiday</th>\n",
       "      <th>workingday</th>\n",
       "      <th>weather</th>\n",
       "      <th>temp</th>\n",
       "      <th>humidity</th>\n",
       "      <th>windspeed</th>\n",
       "      <th>total number of bookings</th>\n",
       "    </tr>\n",
       "  </thead>\n",
       "  <tbody>\n",
       "    <tr>\n",
       "      <th>0</th>\n",
       "      <td>2012-05-02 19:00:00</td>\n",
       "      <td>Summer</td>\n",
       "      <td>0</td>\n",
       "      <td>1</td>\n",
       "      <td>Clear + Few clouds</td>\n",
       "      <td>22.14</td>\n",
       "      <td>77</td>\n",
       "      <td>16.9979</td>\n",
       "      <td>504.0</td>\n",
       "    </tr>\n",
       "    <tr>\n",
       "      <th>1</th>\n",
       "      <td>2012-09-05 04:00:00</td>\n",
       "      <td>Fall</td>\n",
       "      <td>0</td>\n",
       "      <td>1</td>\n",
       "      <td>Clear + Few clouds</td>\n",
       "      <td>28.70</td>\n",
       "      <td>79</td>\n",
       "      <td>19.0012</td>\n",
       "      <td>5.0</td>\n",
       "    </tr>\n",
       "    <tr>\n",
       "      <th>2</th>\n",
       "      <td>2011-01-13 09:00:00</td>\n",
       "      <td>Spring</td>\n",
       "      <td>0</td>\n",
       "      <td>1</td>\n",
       "      <td>Clear + Few clouds</td>\n",
       "      <td>5.74</td>\n",
       "      <td>50</td>\n",
       "      <td>22.0028</td>\n",
       "      <td>139.0</td>\n",
       "    </tr>\n",
       "    <tr>\n",
       "      <th>3</th>\n",
       "      <td>2011-11-18 16:00:00</td>\n",
       "      <td>Winter</td>\n",
       "      <td>0</td>\n",
       "      <td>1</td>\n",
       "      <td>Clear + Few clouds</td>\n",
       "      <td>13.94</td>\n",
       "      <td>29</td>\n",
       "      <td>8.9981</td>\n",
       "      <td>209.0</td>\n",
       "    </tr>\n",
       "    <tr>\n",
       "      <th>4</th>\n",
       "      <td>2011-09-13 13:00:00</td>\n",
       "      <td>Fall</td>\n",
       "      <td>0</td>\n",
       "      <td>1</td>\n",
       "      <td>Clear + Few clouds</td>\n",
       "      <td>30.34</td>\n",
       "      <td>51</td>\n",
       "      <td>19.0012</td>\n",
       "      <td>184.0</td>\n",
       "    </tr>\n",
       "    <tr>\n",
       "      <th>...</th>\n",
       "      <td>...</td>\n",
       "      <td>...</td>\n",
       "      <td>...</td>\n",
       "      <td>...</td>\n",
       "      <td>...</td>\n",
       "      <td>...</td>\n",
       "      <td>...</td>\n",
       "      <td>...</td>\n",
       "      <td>...</td>\n",
       "    </tr>\n",
       "    <tr>\n",
       "      <th>8703</th>\n",
       "      <td>2012-01-16 06:00:00</td>\n",
       "      <td>Spring</td>\n",
       "      <td>1</td>\n",
       "      <td>0</td>\n",
       "      <td>Clear + Few clouds</td>\n",
       "      <td>4.10</td>\n",
       "      <td>54</td>\n",
       "      <td>6.0032</td>\n",
       "      <td>13.0</td>\n",
       "    </tr>\n",
       "    <tr>\n",
       "      <th>8704</th>\n",
       "      <td>2011-11-10 01:00:00</td>\n",
       "      <td>Winter</td>\n",
       "      <td>0</td>\n",
       "      <td>1</td>\n",
       "      <td>Mist + Cloudy</td>\n",
       "      <td>16.40</td>\n",
       "      <td>87</td>\n",
       "      <td>0.0000</td>\n",
       "      <td>11.0</td>\n",
       "    </tr>\n",
       "    <tr>\n",
       "      <th>8705</th>\n",
       "      <td>2011-04-12 03:00:00</td>\n",
       "      <td>Summer</td>\n",
       "      <td>0</td>\n",
       "      <td>1</td>\n",
       "      <td>Mist + Cloudy</td>\n",
       "      <td>23.78</td>\n",
       "      <td>56</td>\n",
       "      <td>8.9981</td>\n",
       "      <td>1.0</td>\n",
       "    </tr>\n",
       "    <tr>\n",
       "      <th>8706</th>\n",
       "      <td>2012-11-07 01:00:00</td>\n",
       "      <td>Winter</td>\n",
       "      <td>0</td>\n",
       "      <td>1</td>\n",
       "      <td>Mist + Cloudy</td>\n",
       "      <td>11.48</td>\n",
       "      <td>61</td>\n",
       "      <td>16.9979</td>\n",
       "      <td>92.0</td>\n",
       "    </tr>\n",
       "    <tr>\n",
       "      <th>8707</th>\n",
       "      <td>2011-01-10 10:00:00</td>\n",
       "      <td>Spring</td>\n",
       "      <td>0</td>\n",
       "      <td>1</td>\n",
       "      <td>Mist + Cloudy</td>\n",
       "      <td>5.74</td>\n",
       "      <td>50</td>\n",
       "      <td>19.9995</td>\n",
       "      <td>31.0</td>\n",
       "    </tr>\n",
       "  </tbody>\n",
       "</table>\n",
       "<p>8708 rows × 9 columns</p>\n",
       "</div>"
      ],
      "text/plain": [
       "                datetime  season holiday workingday              weather  \\\n",
       "0    2012-05-02 19:00:00  Summer       0          1   Clear + Few clouds   \n",
       "1    2012-09-05 04:00:00    Fall       0          1   Clear + Few clouds   \n",
       "2    2011-01-13 09:00:00  Spring       0          1   Clear + Few clouds   \n",
       "3    2011-11-18 16:00:00  Winter       0          1   Clear + Few clouds   \n",
       "4    2011-09-13 13:00:00    Fall       0          1   Clear + Few clouds   \n",
       "...                  ...     ...     ...        ...                  ...   \n",
       "8703 2012-01-16 06:00:00  Spring       1          0   Clear + Few clouds   \n",
       "8704 2011-11-10 01:00:00  Winter       0          1       Mist + Cloudy    \n",
       "8705 2011-04-12 03:00:00  Summer       0          1       Mist + Cloudy    \n",
       "8706 2012-11-07 01:00:00  Winter       0          1       Mist + Cloudy    \n",
       "8707 2011-01-10 10:00:00  Spring       0          1       Mist + Cloudy    \n",
       "\n",
       "       temp  humidity  windspeed  total number of bookings  \n",
       "0     22.14        77    16.9979                     504.0  \n",
       "1     28.70        79    19.0012                       5.0  \n",
       "2      5.74        50    22.0028                     139.0  \n",
       "3     13.94        29     8.9981                     209.0  \n",
       "4     30.34        51    19.0012                     184.0  \n",
       "...     ...       ...        ...                       ...  \n",
       "8703   4.10        54     6.0032                      13.0  \n",
       "8704  16.40        87     0.0000                      11.0  \n",
       "8705  23.78        56     8.9981                       1.0  \n",
       "8706  11.48        61    16.9979                      92.0  \n",
       "8707   5.74        50    19.9995                      31.0  \n",
       "\n",
       "[8708 rows x 9 columns]"
      ]
     },
     "execution_count": 12,
     "metadata": {},
     "output_type": "execute_result"
    }
   ],
   "source": [
    "def outlier_detect(df1,x):\n",
    "    df = df1[x]\n",
    "    for i in df.describe().columns:\n",
    "        q1=df.describe().at[\"25%\",i]\n",
    "        q3=df.describe().at[\"75%\",i]\n",
    "        IQR=(q3-q1)\n",
    "        lb=(q1-1.5*IQR)\n",
    "        ub=(q3+1.5*IQR)\n",
    "        x=np.array(df[i])\n",
    "        p=[]\n",
    "        for j in x:\n",
    "             if j<lb:\n",
    "                p.append(lb)\n",
    "             elif j>ub:\n",
    "                p.append(ub)\n",
    "             else:\n",
    "                p.append(j)\n",
    "        df1[i]=p\n",
    "    return(df1)\n",
    "\n",
    "outlier_detect(data,['total number of bookings','temp','windspeed'])"
   ]
  },
  {
   "cell_type": "markdown",
   "id": "75459794",
   "metadata": {},
   "source": [
    "# Feature Engineering\n",
    "Let's drive some new variables from datetime column-"
   ]
  },
  {
   "cell_type": "code",
   "execution_count": 13,
   "id": "f0378ec3",
   "metadata": {},
   "outputs": [],
   "source": [
    "data[\"month\"] = pd.to_datetime(data[\"datetime\"]).dt.strftime(\"%B\")\n",
    "data[\"day_of_week\"] = pd.to_datetime(data[\"datetime\"]).dt.strftime(\"%A\")\n",
    "data[\"hour\"] = pd.to_datetime(data[\"datetime\"], format=\"%B\").dt.hour"
   ]
  },
  {
   "cell_type": "code",
   "execution_count": 14,
   "id": "15abc4c2",
   "metadata": {},
   "outputs": [
    {
     "data": {
      "text/html": [
       "<div>\n",
       "<style scoped>\n",
       "    .dataframe tbody tr th:only-of-type {\n",
       "        vertical-align: middle;\n",
       "    }\n",
       "\n",
       "    .dataframe tbody tr th {\n",
       "        vertical-align: top;\n",
       "    }\n",
       "\n",
       "    .dataframe thead th {\n",
       "        text-align: right;\n",
       "    }\n",
       "</style>\n",
       "<table border=\"1\" class=\"dataframe\">\n",
       "  <thead>\n",
       "    <tr style=\"text-align: right;\">\n",
       "      <th></th>\n",
       "      <th>season</th>\n",
       "      <th>holiday</th>\n",
       "      <th>workingday</th>\n",
       "      <th>weather</th>\n",
       "      <th>temp</th>\n",
       "      <th>humidity</th>\n",
       "      <th>windspeed</th>\n",
       "      <th>total number of bookings</th>\n",
       "      <th>month</th>\n",
       "      <th>day_of_week</th>\n",
       "      <th>hour</th>\n",
       "    </tr>\n",
       "  </thead>\n",
       "  <tbody>\n",
       "    <tr>\n",
       "      <th>0</th>\n",
       "      <td>Summer</td>\n",
       "      <td>0</td>\n",
       "      <td>1</td>\n",
       "      <td>Clear + Few clouds</td>\n",
       "      <td>22.14</td>\n",
       "      <td>77</td>\n",
       "      <td>16.9979</td>\n",
       "      <td>504.0</td>\n",
       "      <td>May</td>\n",
       "      <td>Wednesday</td>\n",
       "      <td>19</td>\n",
       "    </tr>\n",
       "    <tr>\n",
       "      <th>1</th>\n",
       "      <td>Fall</td>\n",
       "      <td>0</td>\n",
       "      <td>1</td>\n",
       "      <td>Clear + Few clouds</td>\n",
       "      <td>28.70</td>\n",
       "      <td>79</td>\n",
       "      <td>19.0012</td>\n",
       "      <td>5.0</td>\n",
       "      <td>September</td>\n",
       "      <td>Wednesday</td>\n",
       "      <td>4</td>\n",
       "    </tr>\n",
       "    <tr>\n",
       "      <th>2</th>\n",
       "      <td>Spring</td>\n",
       "      <td>0</td>\n",
       "      <td>1</td>\n",
       "      <td>Clear + Few clouds</td>\n",
       "      <td>5.74</td>\n",
       "      <td>50</td>\n",
       "      <td>22.0028</td>\n",
       "      <td>139.0</td>\n",
       "      <td>January</td>\n",
       "      <td>Thursday</td>\n",
       "      <td>9</td>\n",
       "    </tr>\n",
       "    <tr>\n",
       "      <th>3</th>\n",
       "      <td>Winter</td>\n",
       "      <td>0</td>\n",
       "      <td>1</td>\n",
       "      <td>Clear + Few clouds</td>\n",
       "      <td>13.94</td>\n",
       "      <td>29</td>\n",
       "      <td>8.9981</td>\n",
       "      <td>209.0</td>\n",
       "      <td>November</td>\n",
       "      <td>Friday</td>\n",
       "      <td>16</td>\n",
       "    </tr>\n",
       "    <tr>\n",
       "      <th>4</th>\n",
       "      <td>Fall</td>\n",
       "      <td>0</td>\n",
       "      <td>1</td>\n",
       "      <td>Clear + Few clouds</td>\n",
       "      <td>30.34</td>\n",
       "      <td>51</td>\n",
       "      <td>19.0012</td>\n",
       "      <td>184.0</td>\n",
       "      <td>September</td>\n",
       "      <td>Tuesday</td>\n",
       "      <td>13</td>\n",
       "    </tr>\n",
       "  </tbody>\n",
       "</table>\n",
       "</div>"
      ],
      "text/plain": [
       "   season holiday workingday              weather   temp  humidity  windspeed  \\\n",
       "0  Summer       0          1   Clear + Few clouds  22.14        77    16.9979   \n",
       "1    Fall       0          1   Clear + Few clouds  28.70        79    19.0012   \n",
       "2  Spring       0          1   Clear + Few clouds   5.74        50    22.0028   \n",
       "3  Winter       0          1   Clear + Few clouds  13.94        29     8.9981   \n",
       "4    Fall       0          1   Clear + Few clouds  30.34        51    19.0012   \n",
       "\n",
       "   total number of bookings      month day_of_week  hour  \n",
       "0                     504.0        May   Wednesday    19  \n",
       "1                       5.0  September   Wednesday     4  \n",
       "2                     139.0    January    Thursday     9  \n",
       "3                     209.0   November      Friday    16  \n",
       "4                     184.0  September     Tuesday    13  "
      ]
     },
     "execution_count": 14,
     "metadata": {},
     "output_type": "execute_result"
    }
   ],
   "source": [
    "data.drop(columns='datetime', axis=1, inplace=True)\n",
    "data.head()"
   ]
  },
  {
   "cell_type": "markdown",
   "id": "72cb6803",
   "metadata": {},
   "source": [
    "### EDA\n",
    "\n",
    "Exploratory data analysis is a important part in data analysis. it tell us more about data."
   ]
  },
  {
   "cell_type": "code",
   "execution_count": 15,
   "id": "6ce6401b",
   "metadata": {},
   "outputs": [
    {
     "data": {
      "image/png": "[encoded data removed]",
      "text/plain": [
       "<Figure size 1800x1080 with 6 Axes>"
      ]
     },
     "metadata": {
      "needs_background": "light"
     },
     "output_type": "display_data"
    }
   ],
   "source": [
    "# creating plots between old and new variables against number of booking varaible-\n",
    "plt.figure(figsize=(25,15))\n",
    "plt.subplot(2,3,1)\n",
    "plt.xticks(rotation=30)\n",
    "sns.barplot(x = 'month', y = 'total number of bookings', data = data)\n",
    "plt.subplot(2,3,2)\n",
    "plt.xticks(rotation=30)\n",
    "sns.barplot(x = 'weather', y ='total number of bookings', data = data)\n",
    "plt.subplot(2,3,3)\n",
    "plt.xticks(rotation=30)\n",
    "sns.barplot(x = 'day_of_week', y = 'total number of bookings', data = data)\n",
    "plt.subplot(2,3,4)\n",
    "plt.xticks(rotation=30)\n",
    "sns.barplot(x = 'season', y = 'total number of bookings', data = data)\n",
    "plt.subplot(2,3,5)\n",
    "plt.xticks(rotation=30)\n",
    "sns.lineplot(x='hour', y = 'total number of bookings', data=data)\n",
    "plt.subplot(2,3,6)\n",
    "plt.xticks(rotation=30)\n",
    "sns.histplot(data=data, y=\"total number of bookings\")\n",
    "plt.xticks(rotation=30)\n",
    "plt.show()"
   ]
  },
  {
   "cell_type": "markdown",
   "id": "a5ec2506",
   "metadata": {},
   "source": [
    "### Summary"
   ]
  },
  {
   "cell_type": "markdown",
   "id": "a7429a8d",
   "metadata": {},
   "source": [
    "We can see hike in cab booking can be seen in the month of May, June, July, August, September and October..\n",
    "People mostly book cabs when cloudy or there is thunderstorm.\n",
    "day of week doesn't affect cab booking so much.\n",
    "summer, winter and Fall are peak season for cab booking, specially Fall.\n",
    "Number of booking are high Morning and Evening. Maybe people who goes to home or office book the cabs mostly.\n",
    "total number of booking variable is skewed. "
   ]
  },
  {
   "cell_type": "code",
   "execution_count": 16,
   "id": "2615c0e5",
   "metadata": {},
   "outputs": [
    {
     "data": {
      "image/png": "[encoded data removed]",
      "text/plain": [
       "<Figure size 864x576 with 2 Axes>"
      ]
     },
     "metadata": {
      "needs_background": "light"
     },
     "output_type": "display_data"
    }
   ],
   "source": [
    "# Checking Correlation between diffrent features\n",
    "mat = data.corr()\n",
    "fig = plt.figure(figsize = (12,8))\n",
    "\n",
    "sns.heatmap(mat, cbar=True, annot=True, square=True, fmt='.2f', \n",
    "                 annot_kws={'size': 10})\n",
    "plt.show()"
   ]
  },
  {
   "cell_type": "markdown",
   "id": "24b65aae",
   "metadata": {},
   "source": [
    "It can be seen by Heatmap that 'Hour' & 'total number of bookings' variables have strong positive correlation. \n",
    "while 'Humidity' and 'total number of booking' have -ve correlation, means as Humidity increases Cab booking decrease."
   ]
  },
  {
   "cell_type": "code",
   "execution_count": 17,
   "id": "4a53e2cf",
   "metadata": {},
   "outputs": [
    {
     "data": {
      "text/html": [
       "<div>\n",
       "<style scoped>\n",
       "    .dataframe tbody tr th:only-of-type {\n",
       "        vertical-align: middle;\n",
       "    }\n",
       "\n",
       "    .dataframe tbody tr th {\n",
       "        vertical-align: top;\n",
       "    }\n",
       "\n",
       "    .dataframe thead th {\n",
       "        text-align: right;\n",
       "    }\n",
       "</style>\n",
       "<table border=\"1\" class=\"dataframe\">\n",
       "  <thead>\n",
       "    <tr style=\"text-align: right;\">\n",
       "      <th></th>\n",
       "      <th>temp</th>\n",
       "      <th>humidity</th>\n",
       "      <th>windspeed</th>\n",
       "      <th>total number of bookings</th>\n",
       "      <th>season_Fall</th>\n",
       "      <th>season_Spring</th>\n",
       "      <th>season_Summer</th>\n",
       "      <th>season_Winter</th>\n",
       "      <th>holiday_0</th>\n",
       "      <th>holiday_1</th>\n",
       "      <th>...</th>\n",
       "      <th>hour_21</th>\n",
       "      <th>hour_22</th>\n",
       "      <th>hour_23</th>\n",
       "      <th>hour_3</th>\n",
       "      <th>hour_4</th>\n",
       "      <th>hour_5</th>\n",
       "      <th>hour_6</th>\n",
       "      <th>hour_7</th>\n",
       "      <th>hour_8</th>\n",
       "      <th>hour_9</th>\n",
       "    </tr>\n",
       "  </thead>\n",
       "  <tbody>\n",
       "    <tr>\n",
       "      <th>0</th>\n",
       "      <td>22.14</td>\n",
       "      <td>77</td>\n",
       "      <td>16.9979</td>\n",
       "      <td>504.0</td>\n",
       "      <td>0</td>\n",
       "      <td>0</td>\n",
       "      <td>1</td>\n",
       "      <td>0</td>\n",
       "      <td>1</td>\n",
       "      <td>0</td>\n",
       "      <td>...</td>\n",
       "      <td>0</td>\n",
       "      <td>0</td>\n",
       "      <td>0</td>\n",
       "      <td>0</td>\n",
       "      <td>0</td>\n",
       "      <td>0</td>\n",
       "      <td>0</td>\n",
       "      <td>0</td>\n",
       "      <td>0</td>\n",
       "      <td>0</td>\n",
       "    </tr>\n",
       "    <tr>\n",
       "      <th>1</th>\n",
       "      <td>28.70</td>\n",
       "      <td>79</td>\n",
       "      <td>19.0012</td>\n",
       "      <td>5.0</td>\n",
       "      <td>1</td>\n",
       "      <td>0</td>\n",
       "      <td>0</td>\n",
       "      <td>0</td>\n",
       "      <td>1</td>\n",
       "      <td>0</td>\n",
       "      <td>...</td>\n",
       "      <td>0</td>\n",
       "      <td>0</td>\n",
       "      <td>0</td>\n",
       "      <td>0</td>\n",
       "      <td>1</td>\n",
       "      <td>0</td>\n",
       "      <td>0</td>\n",
       "      <td>0</td>\n",
       "      <td>0</td>\n",
       "      <td>0</td>\n",
       "    </tr>\n",
       "    <tr>\n",
       "      <th>2</th>\n",
       "      <td>5.74</td>\n",
       "      <td>50</td>\n",
       "      <td>22.0028</td>\n",
       "      <td>139.0</td>\n",
       "      <td>0</td>\n",
       "      <td>1</td>\n",
       "      <td>0</td>\n",
       "      <td>0</td>\n",
       "      <td>1</td>\n",
       "      <td>0</td>\n",
       "      <td>...</td>\n",
       "      <td>0</td>\n",
       "      <td>0</td>\n",
       "      <td>0</td>\n",
       "      <td>0</td>\n",
       "      <td>0</td>\n",
       "      <td>0</td>\n",
       "      <td>0</td>\n",
       "      <td>0</td>\n",
       "      <td>0</td>\n",
       "      <td>1</td>\n",
       "    </tr>\n",
       "    <tr>\n",
       "      <th>3</th>\n",
       "      <td>13.94</td>\n",
       "      <td>29</td>\n",
       "      <td>8.9981</td>\n",
       "      <td>209.0</td>\n",
       "      <td>0</td>\n",
       "      <td>0</td>\n",
       "      <td>0</td>\n",
       "      <td>1</td>\n",
       "      <td>1</td>\n",
       "      <td>0</td>\n",
       "      <td>...</td>\n",
       "      <td>0</td>\n",
       "      <td>0</td>\n",
       "      <td>0</td>\n",
       "      <td>0</td>\n",
       "      <td>0</td>\n",
       "      <td>0</td>\n",
       "      <td>0</td>\n",
       "      <td>0</td>\n",
       "      <td>0</td>\n",
       "      <td>0</td>\n",
       "    </tr>\n",
       "    <tr>\n",
       "      <th>4</th>\n",
       "      <td>30.34</td>\n",
       "      <td>51</td>\n",
       "      <td>19.0012</td>\n",
       "      <td>184.0</td>\n",
       "      <td>1</td>\n",
       "      <td>0</td>\n",
       "      <td>0</td>\n",
       "      <td>0</td>\n",
       "      <td>1</td>\n",
       "      <td>0</td>\n",
       "      <td>...</td>\n",
       "      <td>0</td>\n",
       "      <td>0</td>\n",
       "      <td>0</td>\n",
       "      <td>0</td>\n",
       "      <td>0</td>\n",
       "      <td>0</td>\n",
       "      <td>0</td>\n",
       "      <td>0</td>\n",
       "      <td>0</td>\n",
       "      <td>0</td>\n",
       "    </tr>\n",
       "  </tbody>\n",
       "</table>\n",
       "<p>5 rows × 59 columns</p>\n",
       "</div>"
      ],
      "text/plain": [
       "    temp  humidity  windspeed  total number of bookings  season_Fall  \\\n",
       "0  22.14        77    16.9979                     504.0            0   \n",
       "1  28.70        79    19.0012                       5.0            1   \n",
       "2   5.74        50    22.0028                     139.0            0   \n",
       "3  13.94        29     8.9981                     209.0            0   \n",
       "4  30.34        51    19.0012                     184.0            1   \n",
       "\n",
       "   season_Spring  season_Summer  season_Winter  holiday_0  holiday_1  ...  \\\n",
       "0              0              1              0          1          0  ...   \n",
       "1              0              0              0          1          0  ...   \n",
       "2              1              0              0          1          0  ...   \n",
       "3              0              0              1          1          0  ...   \n",
       "4              0              0              0          1          0  ...   \n",
       "\n",
       "   hour_21  hour_22  hour_23  hour_3  hour_4  hour_5  hour_6  hour_7  hour_8  \\\n",
       "0        0        0        0       0       0       0       0       0       0   \n",
       "1        0        0        0       0       1       0       0       0       0   \n",
       "2        0        0        0       0       0       0       0       0       0   \n",
       "3        0        0        0       0       0       0       0       0       0   \n",
       "4        0        0        0       0       0       0       0       0       0   \n",
       "\n",
       "   hour_9  \n",
       "0       0  \n",
       "1       0  \n",
       "2       1  \n",
       "3       0  \n",
       "4       0  \n",
       "\n",
       "[5 rows x 59 columns]"
      ]
     },
     "execution_count": 17,
     "metadata": {},
     "output_type": "execute_result"
    }
   ],
   "source": [
    "# there are some categorical variables we need to create dummy of such variables-\n",
    "data[\"hour\"] = data[\"hour\"].astype(str)\n",
    "data = pd.get_dummies(data)\n",
    "data.head()"
   ]
  },
  {
   "cell_type": "markdown",
   "id": "e90b29ab",
   "metadata": {},
   "source": [
    "# Task-2 Machine Learning Model"
   ]
  },
  {
   "cell_type": "markdown",
   "id": "337010bf",
   "metadata": {},
   "source": [
    "### Spliting Data train and test dataset"
   ]
  },
  {
   "cell_type": "code",
   "execution_count": 18,
   "id": "0aaf7a4a",
   "metadata": {},
   "outputs": [
    {
     "name": "stdout",
     "output_type": "stream",
     "text": [
      "(6095, 58)\n",
      "(2613, 58)\n"
     ]
    }
   ],
   "source": [
    "X = data.drop('total number of bookings', axis =1)\n",
    "Y = data['total number of bookings']\n",
    "\n",
    "X_train, X_test, y_train, y_test = train_test_split(X, Y, test_size = 0.3, random_state = 5)\n",
    "print(X_train.shape)\n",
    "print(X_test.shape)"
   ]
  },
  {
   "cell_type": "markdown",
   "id": "df043d75",
   "metadata": {},
   "source": [
    "### Model Development"
   ]
  },
  {
   "cell_type": "markdown",
   "id": "b4819f63",
   "metadata": {},
   "source": [
    "We are going to use multiple models at once, whichever model performs well. we will proceed with that"
   ]
  },
  {
   "cell_type": "code",
   "execution_count": 19,
   "id": "c3ed1752",
   "metadata": {},
   "outputs": [],
   "source": [
    "#--------------- Decision Tree Model---------------\n",
    "D_tree = DecisionTreeRegressor()\n",
    "D_tree.fit(X_train,y_train)\n",
    "# predict the model\n",
    "DT_pred = D_tree.predict(X_test)\n",
    "\n",
    "#-------------- RANDOM FOREST----------------------\n",
    "R_forest = RandomForestRegressor( random_state = 5)\n",
    "R_forest.fit(X_train,y_train)\n",
    "# predict the model\n",
    "RF_pred = R_forest.predict(X_test)\n",
    "\n",
    "#-------------- Gradient Boosting----------------------\n",
    "G_boosting = GradientBoostingRegressor()\n",
    "G_boosting.fit(X_train, y_train)\n",
    "GB_pred = G_boosting.predict(X_test)\n",
    "\n",
    "#---------------Light-GBM------------------------------\n",
    "lbm_mdl = LGBMRegressor()\n",
    "lbm_mdl.fit(X_train, y_train)\n",
    "lbm_pred = lbm_mdl.predict(X_test)"
   ]
  },
  {
   "cell_type": "markdown",
   "id": "2ee58396",
   "metadata": {},
   "source": [
    "### Model Evaluation"
   ]
  },
  {
   "cell_type": "code",
   "execution_count": 20,
   "id": "b7c000f6",
   "metadata": {},
   "outputs": [
    {
     "name": "stdout",
     "output_type": "stream",
     "text": [
      "-------------:------R squared-----|-------MSE--------;\n",
      "Decision Tree: 0.6776071322421129 | 9469.38672024493\n",
      "Random Forest: 0.8333983010302212 | 4893.457869481891\n",
      "GBM          : 0.7318180934078174 | 7877.091706635165\n",
      "Light-GBM    : 0.8550185106950204 | 4258.4248189290765\n"
     ]
    }
   ],
   "source": [
    "# it is regression model, so best we can choose is r-squared and rmse to evaluate model-\n",
    "print(\"-------------:------R squared-----|-------MSE--------;\")\n",
    "print(\"Decision Tree:\", r2_score(y_test, DT_pred),\"|\",mean_squared_error(y_test, DT_pred))\n",
    "print(\"Random Forest:\", r2_score(y_test, RF_pred),\"|\", mean_squared_error(y_test, RF_pred))\n",
    "print(\"GBM          :\", r2_score(y_test, GB_pred),\"|\",mean_squared_error(y_test, GB_pred))\n",
    "print(\"Light-GBM    :\", r2_score(y_test, lbm_pred),\"|\",mean_squared_error(y_test, lbm_pred))"
   ]
  },
  {
   "cell_type": "markdown",
   "id": "e42e8378",
   "metadata": {},
   "source": [
    "### Hyperparameter-tuning\n",
    "Because LGBM-Regression is perfoming better then any other model. we will try to optimize this one\n",
    "."
   ]
  },
  {
   "cell_type": "code",
   "execution_count": 21,
   "id": "9feeb5ae",
   "metadata": {},
   "outputs": [
    {
     "name": "stdout",
     "output_type": "stream",
     "text": [
      "Fitting 2 folds for each of 2160 candidates, totalling 4320 fits\n",
      "R squared: 0.8697707799071916\n",
      "MSE : 3825.118266142303\n"
     ]
    }
   ],
   "source": [
    "map_grid = {'learning_rate': [0.01,0.08,0.1], 'n_estimators': [300, 500, 1000, 1200],\n",
    "               'num_leaves': [8, 12, 16,20, 25],  \n",
    "               'subsample': [0.2,0.4,0.7, 0.75], 'reg_alpha': [1, 2, 6],\n",
    "               'reg_lambda': [1, 2, 6]}\n",
    "\n",
    "lgbm_random = GridSearchCV(estimator = lbm_mdl, param_grid = map_grid, \n",
    "                          cv = 2, n_jobs = -1, verbose = 20)\n",
    "#fitting the model\n",
    "lgbm_random = lgbm_random.fit(X_train, y_train)\n",
    "\n",
    "#Predicting test data\n",
    "y_train_pred_lgbm = lgbm_random.predict(X_train)\n",
    "y_pred_lgbm = lgbm_random.predict(X_test)\n",
    "\n",
    "print(\"R squared:\",r2_score(y_test,y_pred_lgbm))\n",
    "print(\"MSE :\", mean_squared_error(y_test, y_pred_lgbm))"
   ]
  },
  {
   "cell_type": "markdown",
   "id": "413a86f5",
   "metadata": {},
   "source": [
    "##### Model is performing better then before. we can manual Tuning these parameters. but for now we are freezing these parameters as final"
   ]
  },
  {
   "cell_type": "code",
   "execution_count": 22,
   "id": "16858223",
   "metadata": {},
   "outputs": [
    {
     "data": {
      "text/plain": [
       "{'learning_rate': 0.08,\n",
       " 'n_estimators': 1200,\n",
       " 'num_leaves': 16,\n",
       " 'reg_alpha': 1,\n",
       " 'reg_lambda': 2,\n",
       " 'subsample': 0.2}"
      ]
     },
     "execution_count": 22,
     "metadata": {},
     "output_type": "execute_result"
    }
   ],
   "source": [
    "# Model's Best parameters\n",
    "lgbm_random.best_params_"
   ]
  },
  {
   "cell_type": "code",
   "execution_count": 23,
   "id": "4207c4ae",
   "metadata": {},
   "outputs": [
    {
     "data": {
      "text/plain": [
       "<AxesSubplot:>"
      ]
     },
     "execution_count": 23,
     "metadata": {},
     "output_type": "execute_result"
    },
    {
     "data": {
      "image/png": "[encoded data removed]",
      "text/plain": [
       "<Figure size 720x360 with 1 Axes>"
      ]
     },
     "metadata": {
      "needs_background": "light"
     },
     "output_type": "display_data"
    }
   ],
   "source": [
    "# FEATURE IMPORTANCE - top 5 only\n",
    "feat_importances = pd.Series(lgbm_random.best_estimator_.feature_importances_, index=X_train.columns)\n",
    "f, ax = plt.subplots(figsize=(10,5))\n",
    "feat_importances.nlargest(5).plot(kind='barh')"
   ]
  },
  {
   "cell_type": "code",
   "execution_count": null,
   "id": "dcdbf194",
   "metadata": {},
   "outputs": [],
   "source": []
  }
 ],
 "metadata": {
  "kernelspec": {
   "display_name": "Python 3 (ipykernel)",
   "language": "python",
   "name": "python3"
  },
  "language_info": {
   "codemirror_mode": {
    "name": "ipython",
    "version": 3
   },
   "file_extension": ".py",
   "mimetype": "text/x-python",
   "name": "python",
   "nbconvert_exporter": "python",
   "pygments_lexer": "ipython3",
   "version": "3.9.7"
  }
 },
 "nbformat": 4,
 "nbformat_minor": 5
}
